{
 "cells": [
  {
   "cell_type": "code",
   "execution_count": 66,
   "metadata": {},
   "outputs": [],
   "source": [
    "from train import basic_transforms, mean, std # TODO: Move to utils?\n",
    "from render_shape import ShapeRenderer\n",
    "from utils import unnormalize_functional, rgba_to_rgb, unnormalize_to\n",
    "from models import Model\n",
    "import torch\n",
    "from PIL import Image\n",
    "import torchvision.transforms.functional as TF\n",
    "from IPython.display import SVG, display\n",
    "import svgwrite\n",
    "from cairosvg import svg2png\n",
    "from pathlib import Path\n",
    "from tqdm.notebook import tqdm\n",
    "import io"
   ]
  },
  {
   "cell_type": "code",
   "execution_count": 2,
   "metadata": {},
   "outputs": [],
   "source": [
    "n_shapes = 16\n",
    "image_size = 64\n",
    "device = torch.device(\"cuda\" if torch.cuda.is_available() else \"cpu\")\n",
    "\n",
    "model = Model(n_shapes=n_shapes).to(device)\n",
    "renderer = ShapeRenderer(device=device, imsize=image_size, minimum_sharpness=10).to(device)\n",
    "\n",
    "model.load_state_dict(torch.load(r\".\\checkpoints\\celeba.pt\")['G'])\n",
    "model.to(device)\n",
    "model.eval()\n",
    "pass"
   ]
  },
  {
   "cell_type": "code",
   "execution_count": 16,
   "metadata": {},
   "outputs": [
    {
     "data": {
      "text/plain": [
       "'Input image'"
      ]
     },
     "metadata": {},
     "output_type": "display_data"
    },
    {
     "data": {
      "image/png": "[encoded data removed]",
      "text/plain": [
       "<PIL.Image.Image image mode=RGB size=64x64 at 0x251FF99B580>"
      ]
     },
     "metadata": {},
     "output_type": "display_data"
    },
    {
     "data": {
      "text/plain": [
       "'Fuzzy training output'"
      ]
     },
     "metadata": {},
     "output_type": "display_data"
    },
    {
     "data": {
      "image/png": "[encoded data removed]",
      "text/plain": [
       "<PIL.Image.Image image mode=RGB size=64x64 at 0x251FF99B580>"
      ]
     },
     "metadata": {},
     "output_type": "display_data"
    },
    {
     "data": {
      "text/plain": [
       "'Crisp evaluation output'"
      ]
     },
     "metadata": {},
     "output_type": "display_data"
    },
    {
     "data": {
      "image/png": "[encoded data removed]",
      "text/plain": [
       "<PIL.Image.Image image mode=RGB size=64x64 at 0x25196E18A00>"
      ]
     },
     "metadata": {},
     "output_type": "display_data"
    }
   ],
   "source": [
    "# Load image and view it\n",
    "input_image = Image.open(r\"C:\\projects\\data\\celeba_val\\main\\008189.jpg\")\n",
    "input_tensor = basic_transforms(input_image).to(device)\n",
    "display(\"Input image\", TF.to_pil_image(unnormalize_functional(input_tensor, mean, std)))\n",
    "\n",
    "# Forward image through net and renderer\n",
    "shape_args = model(input_tensor.unsqueeze(0))\n",
    "renderer.train()\n",
    "output_image = rgba_to_rgb(renderer(shape_args).squeeze(0))\n",
    "display(\"Fuzzy training output\", TF.to_pil_image(unnormalize_functional(output_image, mean, std)))\n",
    "\n",
    "# Render using sharp images\n",
    "renderer.eval()\n",
    "output_image = rgba_to_rgb(renderer(shape_args).squeeze(0))\n",
    "display(\"Crisp evaluation output\", TF.to_pil_image(unnormalize_functional(output_image, mean, std)))\n",
    "\n",
    "# Only process the shape colors etc., don't render\n",
    "output_image_args = renderer(shape_args, return_mode=\"shapes\").squeeze(0).detach().cpu()"
   ]
  },
  {
   "cell_type": "code",
   "execution_count": 87,
   "metadata": {},
   "outputs": [
    {
     "data": {
      "image/svg+xml": "<svg xmlns=\"http://www.w3.org/2000/svg\" xmlns:ev=\"http://www.w3.org/2001/xml-events\" xmlns:xlink=\"http://www.w3.org/1999/xlink\" baseProfile=\"tiny\" height=\"200\" version=\"1.2\" width=\"200\"><defs/><rect fill=\"rgb(129,108,97)\" height=\"200\" width=\"200\" x=\"0\" y=\"0\"/><rect fill=\"rgb(25,17,9)\" height=\"56.2164\" transform=\"rotate(87.54009621451974,86.0107421875,105.74836730957031)\" width=\"86.9461\" x=\"42.5377\" y=\"77.6402\"/><ellipse cx=\"118.9873\" cy=\"154.6083\" fill=\"rgb(42,23,13)\" rx=\"29.5622\" ry=\"47.3892\" transform=\"rotate(87.80084551627414,118.98727416992188,154.60834503173828)\"/><rect fill=\"rgb(138,101,76)\" height=\"97.0459\" transform=\"rotate(90.0453208096212,112.31670379638672,73.70414733886719)\" width=\"46.7838\" x=\"88.9248\" y=\"25.1812\"/><rect fill=\"rgb(225,212,202)\" height=\"363.8798\" transform=\"rotate(76.78636634749569,42.107391357421875,0.167083740234375)\" width=\"158.2569\" x=\"-37.0211\" y=\"-181.7728\"/><ellipse cx=\"155.7457\" cy=\"74.5113\" fill=\"rgb(64,49,33)\" rx=\"14.3049\" ry=\"27.7006\" transform=\"rotate(156.00586464340336,155.74569702148438,74.51133728027344)\"/><rect fill=\"rgb(50,27,15)\" height=\"89.8315\" transform=\"rotate(75.95260515551223,114.17922973632812,147.9076385498047)\" width=\"115.7169\" x=\"56.3208\" y=\"102.9919\"/><ellipse cx=\"159.2529\" cy=\"110.4233\" fill=\"rgb(40,24,12)\" rx=\"21.5036\" ry=\"19.7214\" transform=\"rotate(99.3596702713351,159.2529296875,110.42327880859375)\"/><ellipse cx=\"109.0057\" cy=\"115.4125\" fill=\"rgb(157,111,94)\" rx=\"4.3661\" ry=\"44.7235\" transform=\"rotate(90.57489952691814,109.0057373046875,115.41252136230469)\"/><ellipse cx=\"100.0429\" cy=\"112.9911\" fill=\"rgb(163,125,106)\" rx=\"56.5235\" ry=\"3.6673\" transform=\"rotate(88.39874661583872,100.04291534423828,112.99114227294922)\"/><ellipse cx=\"69.5418\" cy=\"69.3007\" fill=\"rgb(160,130,102)\" rx=\"7.4347\" ry=\"17.3563\" transform=\"rotate(36.46061871413317,69.54183578491211,69.30065155029297)\"/><ellipse cx=\"117.2248\" cy=\"52.7338\" fill=\"rgb(189,157,132)\" rx=\"12.2993\" ry=\"26.8394\" transform=\"rotate(88.65864214394688,117.22478866577148,52.733802795410156)\"/><ellipse cx=\"92.2671\" cy=\"193.6588\" fill=\"rgb(30,24,25)\" rx=\"31.9992\" ry=\"114.6515\" transform=\"rotate(87.5669593485254,92.26713180541992,193.65882873535156)\"/><rect fill=\"rgb(210,163,138)\" height=\"88.3129\" transform=\"rotate(87.76471381556478,107.45115280151367,71.89760208129883)\" width=\"42.9848\" x=\"85.9588\" y=\"27.7411\"/><rect fill=\"rgb(147,94,73)\" height=\"89.3843\" transform=\"rotate(90.5355029957855,109.2320442199707,123.87661933898926)\" width=\"27.3871\" x=\"95.5385\" y=\"79.1845\"/><rect fill=\"rgb(207,153,135)\" height=\"57.5511\" transform=\"rotate(80.26821920144977,105.17263412475586,142.28143692016602)\" width=\"46.8763\" x=\"81.7345\" y=\"113.5059\"/><rect fill=\"rgb(49,30,23)\" height=\"33.2912\" transform=\"rotate(86.47729828909824,105.9809684753418,199.79054927825928)\" width=\"28.531\" x=\"91.7155\" y=\"183.145\"/></svg>",
      "text/plain": [
       "<IPython.core.display.SVG object>"
      ]
     },
     "metadata": {},
     "output_type": "display_data"
    }
   ],
   "source": [
    "svg_string = get_svg(output_image_args, canvas_size=200)\n",
    "display(SVG(svg_string))"
   ]
  },
  {
   "cell_type": "code",
   "execution_count": 91,
   "metadata": {},
   "outputs": [
    {
     "data": {
      "application/vnd.jupyter.widget-view+json": {
       "model_id": "f104b59e7eba4254985e56447fc846b4",
       "version_major": 2,
       "version_minor": 0
      },
      "text/plain": [
       "  0%|          | 0/10 [00:00<?, ?it/s]"
      ]
     },
     "metadata": {},
     "output_type": "display_data"
    }
   ],
   "source": [
    "input_path = Path(r\"G:\\Simon\\Pictures\\zimonitrome\\zimo avatars\")\n",
    "canvas_size = 200\n",
    "output_path = Path(\"./highres_outputs/\") / (input_path.parent.name + \"_pred\")\n",
    "output_path.mkdir(exist_ok=True, parents=True)\n",
    "\n",
    "files = list(input_path.iterdir())\n",
    "model.eval()\n",
    "renderer.eval()\n",
    "\n",
    "for file in tqdm(files):\n",
    "    # I/O paths\n",
    "    png_path = output_path / (file.stem + \".png\")\n",
    "    svg_path = output_path / (file.stem + \".svg\")\n",
    "\n",
    "    # Prepare image\n",
    "    input_image = Image.open(file).convert(\"RGB\")\n",
    "    input_tensor = basic_transforms(input_image).to(device)\n",
    "\n",
    "    # Run image through model\n",
    "    shape_args = model(input_tensor.unsqueeze(0))\n",
    "    output_image_args = renderer(shape_args, return_mode=\"shapes\").squeeze(0).detach().cpu()\n",
    "    svg_string = get_svg(output_image_args, canvas_size=canvas_size)\n",
    "    \n",
    "    # Save SVG\n",
    "    with open(svg_path, \"w\") as svg_file:\n",
    "        svg_file.write(svg_string)\n",
    "\n",
    "    # Save SVG as PNG and remove SVG\n",
    "    with open(svg_path, mode=\"rb\") as svg_file:\n",
    "        svg2png(bytestring=svg_file.read(), write_to=str(png_path))\n",
    "    svg_path.unlink()"
   ]
  }
 ],
 "metadata": {
  "interpreter": {
   "hash": "d40f4b150b46d720e7757c47d949286b7c88b9827938950183d77a8b3898b75d"
  },
  "kernelspec": {
   "display_name": "Python 3.9.4 64-bit ('base': conda)",
   "name": "python3"
  },
  "language_info": {
   "codemirror_mode": {
    "name": "ipython",
    "version": 3
   },
   "file_extension": ".py",
   "mimetype": "text/x-python",
   "name": "python",
   "nbconvert_exporter": "python",
   "pygments_lexer": "ipython3",
   "version": "3.9.4"
  },
  "orig_nbformat": 4
 },
 "nbformat": 4,
 "nbformat_minor": 2
}
