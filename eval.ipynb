{
 "cells": [
  {
   "cell_type": "code",
   "execution_count": 1,
   "metadata": {},
   "outputs": [
    {
     "name": "stderr",
     "output_type": "stream",
     "text": [
      "C:\\Users\\Simon\\Anaconda3\\lib\\site-packages\\torch\\functional.py:445: UserWarning: torch.meshgrid: in an upcoming release, it will be required to pass the indexing argument. (Triggered internally at  ..\\aten\\src\\ATen\\native\\TensorShape.cpp:2157.)\n",
      "  return _VF.meshgrid(tensors, **kwargs)  # type: ignore[attr-defined]\n"
     ]
    }
   ],
   "source": [
    "# Standard libraries\n",
    "from PIL import Image\n",
    "from pathlib import Path\n",
    "from IPython.display import SVG, display\n",
    "\n",
    "# Repo files\n",
    "from train import basic_transforms, mean, std\n",
    "from src.ShapeRenderer import ShapeRenderer\n",
    "from src.ShapeRendererSVG import ShapeRendererSVG\n",
    "from src.utils import unnormalize_functional, rgba_to_rgb, unnormalize_to\n",
    "from src.models import Model\n",
    "\n",
    "# Torch imports\n",
    "import torch\n",
    "import torchvision.transforms.functional as TF\n",
    "\n",
    "# Additional libraries\n",
    "from tqdm.notebook import tqdm"
   ]
  },
  {
   "cell_type": "code",
   "execution_count": 2,
   "metadata": {},
   "outputs": [],
   "source": [
    "n_shapes = 16\n",
    "image_size = 64\n",
    "svg_image_size = 250\n",
    "device = torch.device(\"cuda\" if torch.cuda.is_available() else \"cpu\")\n",
    "\n",
    "model = Model(n_shapes=n_shapes).to(device)\n",
    "renderer = ShapeRenderer(device=device, imsize=image_size, minimum_sharpness=10).to(device)\n",
    "svg_renderer = ShapeRendererSVG(internal_renderer=renderer, canvas_size=svg_image_size, mean=mean, std=std)\n",
    "\n",
    "model.load_state_dict(torch.load(r\".\\checkpoints\\celeba.pt\")['G'])\n",
    "model.to(device)\n",
    "model.eval()\n",
    "pass"
   ]
  },
  {
   "cell_type": "code",
   "execution_count": 3,
   "metadata": {},
   "outputs": [
    {
     "data": {
      "text/plain": [
       "'Input image'"
      ]
     },
     "metadata": {},
     "output_type": "display_data"
    },
    {
     "data": {
      "image/png": "[encoded data removed]",
      "text/plain": [
       "<PIL.Image.Image image mode=RGB size=64x64 at 0x165452A3A30>"
      ]
     },
     "metadata": {},
     "output_type": "display_data"
    },
    {
     "data": {
      "text/plain": [
       "'Fuzzy training output'"
      ]
     },
     "metadata": {},
     "output_type": "display_data"
    },
    {
     "data": {
      "image/png": "[encoded data removed]",
      "text/plain": [
       "<PIL.Image.Image image mode=RGB size=64x64 at 0x165452A3C40>"
      ]
     },
     "metadata": {},
     "output_type": "display_data"
    },
    {
     "data": {
      "text/plain": [
       "'Crisp evaluation output'"
      ]
     },
     "metadata": {},
     "output_type": "display_data"
    },
    {
     "data": {
      "image/png": "[encoded data removed]",
      "text/plain": [
       "<PIL.Image.Image image mode=RGB size=64x64 at 0x165452A3AF0>"
      ]
     },
     "metadata": {},
     "output_type": "display_data"
    }
   ],
   "source": [
    "# Load image and view it\n",
    "input_image = Image.open(r\"C:\\projects\\data\\celeba_val\\main\\008189.jpg\")\n",
    "input_tensor = basic_transforms(input_image).to(device)\n",
    "display(\"Input image\", TF.to_pil_image(unnormalize_functional(input_tensor, mean, std)))\n",
    "\n",
    "# Forward image through net and renderer\n",
    "shape_args = model(input_tensor.unsqueeze(0))\n",
    "renderer.train()\n",
    "output_image = rgba_to_rgb(renderer(shape_args).squeeze(0))\n",
    "display(\"Fuzzy training output\", TF.to_pil_image(unnormalize_functional(output_image, mean, std)))\n",
    "\n",
    "# Render using sharp images\n",
    "renderer.eval()\n",
    "output_image = rgba_to_rgb(renderer(shape_args).squeeze(0))\n",
    "display(\"Crisp evaluation output\", TF.to_pil_image(unnormalize_functional(output_image, mean, std)))"
   ]
  },
  {
   "cell_type": "code",
   "execution_count": 4,
   "metadata": {},
   "outputs": [
    {
     "data": {
      "image/svg+xml": "<svg xmlns=\"http://www.w3.org/2000/svg\" xmlns:ev=\"http://www.w3.org/2001/xml-events\" xmlns:xlink=\"http://www.w3.org/1999/xlink\" baseProfile=\"tiny\" height=\"250\" version=\"1.2\" width=\"250\"><defs/><rect fill=\"rgb(129,108,97)\" height=\"250\" width=\"250\" x=\"0\" y=\"0\"/><rect fill=\"rgb(25,17,9)\" height=\"70.2667\" transform=\"rotate(87.54112757308441,107.51867294311523,132.19833374023438)\" width=\"108.6702\" x=\"53.1836\" y=\"97.065\"/><ellipse cx=\"148.7446\" cy=\"193.2638\" fill=\"rgb(42,23,13)\" rx=\"36.9427\" ry=\"59.2463\" transform=\"rotate(87.79157694957044,148.7445831298828,193.26376914978027)\"/><rect fill=\"rgb(138,101,76)\" height=\"121.3083\" transform=\"rotate(90.04257507357485,140.39874076843262,92.12946891784668)\" width=\"58.4774\" x=\"111.16\" y=\"31.4753\"/><rect fill=\"rgb(225,212,202)\" height=\"454.8664\" transform=\"rotate(76.7867078569542,52.629709243774414,0.2090930938720703)\" width=\"197.813\" x=\"-46.2768\" y=\"-227.2241\"/><ellipse cx=\"194.6862\" cy=\"93.1504\" fill=\"rgb(64,49,33)\" rx=\"17.8823\" ry=\"34.6289\" transform=\"rotate(156.00311890735702,194.6861743927002,93.15037727355957)\"/><rect fill=\"rgb(50,27,15)\" height=\"112.2794\" transform=\"rotate(75.93613073923416,142.71783828735352,184.88430976867676)\" width=\"144.6571\" x=\"70.3893\" y=\"128.7446\"/><ellipse cx=\"199.0654\" cy=\"138.0293\" fill=\"rgb(40,24,12)\" rx=\"26.8867\" ry=\"24.6563\" transform=\"rotate(99.35452030870091,199.0654468536377,138.0293369293213)\"/><ellipse cx=\"136.2522\" cy=\"144.2719\" fill=\"rgb(157,111,94)\" rx=\"5.4593\" ry=\"55.9003\" transform=\"rotate(90.57695541385831,136.25216484069824,144.2718505859375)\"/><ellipse cx=\"125.0536\" cy=\"141.2337\" fill=\"rgb(163,125,106)\" rx=\"70.6618\" ry=\"4.5838\" transform=\"rotate(88.40115084242656,125.05364418029785,141.2336826324463)\"/><ellipse cx=\"86.9262\" cy=\"86.627\" fill=\"rgb(160,130,102)\" rx=\"9.2908\" ry=\"21.6941\" transform=\"rotate(36.45693041198137,86.92622184753418,86.62700653076172)\"/><ellipse cx=\"146.5275\" cy=\"65.9157\" fill=\"rgb(189,157,132)\" rx=\"15.375\" ry=\"33.5493\" transform=\"rotate(88.6605272761578,146.52752876281738,65.91570377349854)\"/><ellipse cx=\"115.3326\" cy=\"242.0734\" fill=\"rgb(30,24,25)\" rx=\"40.0085\" ry=\"143.304\" transform=\"rotate(87.56455512193754,115.33260345458984,242.0734167098999)\"/><rect fill=\"rgb(210,163,138)\" height=\"110.3868\" transform=\"rotate(87.76497336275324,134.32085514068604,89.86914157867432)\" width=\"53.7357\" x=\"107.453\" y=\"34.6757\"/><rect fill=\"rgb(147,94,73)\" height=\"111.7316\" transform=\"rotate(90.53712858080797,136.54398918151855,154.84517812728882)\" width=\"34.2402\" x=\"119.4239\" y=\"98.9794\"/><rect fill=\"rgb(207,153,135)\" height=\"71.934\" transform=\"rotate(80.27096493749612,131.4600706100464,177.8528094291687)\" width=\"58.5922\" x=\"102.164\" y=\"141.8858\"/><rect fill=\"rgb(49,30,23)\" height=\"41.6082\" transform=\"rotate(86.47871213825643,132.4792504310608,249.73827600479126)\" width=\"35.6658\" x=\"114.6464\" y=\"228.9342\"/></svg>",
      "text/plain": [
       "<IPython.core.display.SVG object>"
      ]
     },
     "metadata": {},
     "output_type": "display_data"
    }
   ],
   "source": [
    "svg_string = svg_renderer.get_string(shape_args.squeeze(0))\n",
    "display(SVG(svg_string))"
   ]
  },
  {
   "cell_type": "code",
   "execution_count": 5,
   "metadata": {},
   "outputs": [
    {
     "data": {
      "application/vnd.jupyter.widget-view+json": {
       "model_id": "99cac403395e4f1896478b21fe3e7171",
       "version_major": 2,
       "version_minor": 0
      },
      "text/plain": [
       "  0%|          | 0/10 [00:00<?, ?it/s]"
      ]
     },
     "metadata": {},
     "output_type": "display_data"
    }
   ],
   "source": [
    "input_path = Path(r\"...somepath...\")\n",
    "canvas_size = 200\n",
    "output_path = Path(\"...sometotherpath...\") / (input_path.parent.name + \"_pred\")\n",
    "output_path.mkdir(exist_ok=True, parents=True)\n",
    "\n",
    "files = list(input_path.iterdir())\n",
    "model.eval()\n",
    "renderer.eval()\n",
    "\n",
    "\n",
    "for file in tqdm(files):\n",
    "    # I/O paths\n",
    "    png_path = output_path / (file.stem + \".png\")\n",
    "\n",
    "    # Prepare image\n",
    "    input_image = Image.open(file).convert(\"RGB\")\n",
    "    input_tensor = basic_transforms(input_image).to(device)\n",
    "\n",
    "    # Run image through model\n",
    "    shape_args = model(input_tensor.unsqueeze(0)).squeeze(0)\n",
    "    svg_renderer.save_png(shape_args, png_path)"
   ]
  }
 ],
 "metadata": {
  "interpreter": {
   "hash": "d40f4b150b46d720e7757c47d949286b7c88b9827938950183d77a8b3898b75d"
  },
  "kernelspec": {
   "display_name": "Python 3.9.4 64-bit ('base': conda)",
   "name": "python3"
  },
  "language_info": {
   "codemirror_mode": {
    "name": "ipython",
    "version": 3
   },
   "file_extension": ".py",
   "mimetype": "text/x-python",
   "name": "python",
   "nbconvert_exporter": "python",
   "pygments_lexer": "ipython3",
   "version": "3.9.4"
  },
  "orig_nbformat": 4
 },
 "nbformat": 4,
 "nbformat_minor": 2
}
