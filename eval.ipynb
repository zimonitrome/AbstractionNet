{
 "cells": [
  {
   "cell_type": "code",
   "execution_count": 4,
   "metadata": {},
   "outputs": [],
   "source": [
    "import torch\n",
    "from train import netG, my_transforms, unnormalize_functional, mean, std, device, to_rgb\n",
    "from models import unnormalize_to\n",
    "from PIL import Image\n",
    "import torchvision.transforms.functional as TF\n",
    "from IPython.display import SVG, display\n",
    "import svgwrite\n",
    "from cairosvg import svg2png\n",
    "from pathlib import Path\n",
    "from tqdm.notebook import tqdm"
   ]
  },
  {
   "cell_type": "code",
   "execution_count": 5,
   "metadata": {},
   "outputs": [],
   "source": [
    "netG.load_state_dict(torch.load(r\".\\checkpoints\\2021-11-15-19.08.27\\210000__1.4482669830322266.pt\")['G'])\n",
    "netG.to(device)\n",
    "netG.eval()\n",
    "pass"
   ]
  },
  {
   "cell_type": "code",
   "execution_count": 6,
   "metadata": {},
   "outputs": [
    {
     "data": {
      "image/png": "[encoded data removed]",
      "text/plain": [
       "<PIL.Image.Image image mode=RGB size=64x64 at 0x179671EE340>"
      ]
     },
     "metadata": {},
     "output_type": "display_data"
    },
    {
     "data": {
      "image/png": "[encoded data removed]",
      "text/plain": [
       "<PIL.Image.Image image mode=RGB size=64x64 at 0x17911D30040>"
      ]
     },
     "metadata": {},
     "output_type": "display_data"
    }
   ],
   "source": [
    "input_image = Image.open(r\"C:\\projects\\data\\celeba_val\\main\\008189.jpg\")\n",
    "input_tensor = my_transforms(input_image).to(device)\n",
    "display(TF.to_pil_image(unnormalize_functional(input_tensor, mean, std)))\n",
    "netG.return_mode = \"bitmap\"\n",
    "output_image = to_rgb(netG(input_tensor.unsqueeze(0)).squeeze(0))\n",
    "display(TF.to_pil_image(unnormalize_functional(output_image, mean, std)))\n",
    "\n",
    "netG.return_mode = \"shapes\"\n",
    "output_image_args = netG(input_tensor.unsqueeze(0)).squeeze(0).detach().cpu()"
   ]
  },
  {
   "cell_type": "code",
   "execution_count": 49,
   "metadata": {},
   "outputs": [],
   "source": [
    "def save_svg(shapes_args, filename, canvas_height=500, canvas_width=500):\n",
    "    dwg = svgwrite.Drawing(filename, profile='tiny', size=(canvas_width, canvas_height))\n",
    "    r, g, b = 255*(mean.cpu() + std.cpu())\n",
    "    bgr_color = svgwrite.rgb(r, g, b)\n",
    "    dwg.add(dwg.rect(insert=(0, 0), size=(canvas_width, canvas_height), fill=bgr_color))\n",
    "\n",
    "    mr, mg, mb = mean\n",
    "    sr, sg, sb = std\n",
    "\n",
    "    for shape_args in shapes_args:\n",
    "        _, _, pos_x, pos_y, width, height, angle, squareness, r, g, b = shape_args\n",
    "        pos_x = float(pos_x*canvas_height)\n",
    "        pos_y = float(pos_y*canvas_width)\n",
    "        height = float(height*canvas_height)\n",
    "        width = float(width*canvas_width)\n",
    "        width, height = height, width\n",
    "        pos_x, pos_y = pos_y, pos_x\n",
    "        angle = 180*float(angle)\n",
    "        rgb = unnormalize_to(torch.stack([r, g, b]), -1.5, 1.5).view(-1, 1, 1)\n",
    "        r, g, b = 255*unnormalize_functional(rgb, mean.cpu(), std.cpu()).view(-1)\n",
    "        fill = svgwrite.rgb(r, g, b)\n",
    "        if squareness > 0.5:\n",
    "            shape = dwg.rect(insert=(pos_x-width, pos_y-height), size=(2*width, 2*height), fill=fill)\n",
    "        else:\n",
    "            shape = dwg.ellipse(center=(pos_x, pos_y), r=(width, height), fill=fill)\n",
    "        shape.rotate(angle=angle, center=(pos_x, pos_y))\n",
    "        dwg.add(shape)\n",
    "    dwg.save()\n",
    "\n",
    "    display(SVG(filename=\"./out.svg\"))"
   ]
  },
  {
   "cell_type": "code",
   "execution_count": 10,
   "metadata": {},
   "outputs": [
    {
     "data": {
      "application/vnd.jupyter.widget-view+json": {
       "model_id": "81e8925ad71949c986ed500c0c9c744c",
       "version_major": 2,
       "version_minor": 0
      },
      "text/plain": [
       "  0%|          | 0/202599 [00:00<?, ?it/s]"
      ]
     },
     "metadata": {},
     "output_type": "display_data"
    }
   ],
   "source": [
    "input_path = Path(r\"C:\\projects\\data\\celeba/img_align_celeba/\")\n",
    "output_path = Path(\"./highres_outputs/\") / (input_path.parent.name + \"_pred\")\n",
    "output_path.mkdir(exist_ok=True, parents=True)\n",
    "\n",
    "files = list(input_path.iterdir())\n",
    "\n",
    "netG.return_mode = \"shapes\"\n",
    "\n",
    "for file in tqdm(files):\n",
    "    png_path = output_path / (file.stem + \".png\")\n",
    "    if png_path.exists():\n",
    "        continue\n",
    "    svg_path = output_path / (file.stem + \".svg\")\n",
    "    input_image = Image.open(file)\n",
    "    input_tensor = my_transforms(input_image).to(device)\n",
    "    output_image_args = netG(input_tensor.unsqueeze(0)).squeeze(0).detach().cpu()\n",
    "    save_svg(output_image_args, svg_path, canvas_height=1080, canvas_width=1080)\n",
    "    with open(svg_path, mode=\"rb\") as svg_file:\n",
    "        svg2png(bytestring=svg_file.read(), write_to=str(png_path))\n",
    "    svg_path.unlink()"
   ]
  },
  {
   "cell_type": "code",
   "execution_count": 7,
   "metadata": {},
   "outputs": [
    {
     "data": {
      "text/plain": [
       "torch.Size([16, 11])"
      ]
     },
     "execution_count": 7,
     "metadata": {},
     "output_type": "execute_result"
    }
   ],
   "source": [
    "output_image_args.shape"
   ]
  }
 ],
 "metadata": {
  "interpreter": {
   "hash": "d40f4b150b46d720e7757c47d949286b7c88b9827938950183d77a8b3898b75d"
  },
  "kernelspec": {
   "display_name": "Python 3.9.4 64-bit ('base': conda)",
   "name": "python3"
  },
  "language_info": {
   "codemirror_mode": {
    "name": "ipython",
    "version": 3
   },
   "file_extension": ".py",
   "mimetype": "text/x-python",
   "name": "python",
   "nbconvert_exporter": "python",
   "pygments_lexer": "ipython3",
   "version": "3.9.4"
  },
  "orig_nbformat": 4
 },
 "nbformat": 4,
 "nbformat_minor": 2
}
