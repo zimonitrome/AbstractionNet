{
 "cells": [
  {
   "cell_type": "code",
   "execution_count": 1,
   "metadata": {},
   "outputs": [
    {
     "name": "stderr",
     "output_type": "stream",
     "text": [
      "C:\\Users\\Simon\\Anaconda3\\lib\\site-packages\\torch\\functional.py:568: UserWarning: torch.meshgrid: in an upcoming release, it will be required to pass the indexing argument. (Triggered internally at  ..\\aten\\src\\ATen\\native\\TensorShape.cpp:2157.)\n",
      "  return _VF.meshgrid(tensors, **kwargs)  # type: ignore[attr-defined]\n"
     ]
    }
   ],
   "source": [
    "import torch\n",
    "from train import netG, my_transforms, unnormalize_functional, mean, std, device, to_rgb\n",
    "from models import unnormalize_to\n",
    "from PIL import Image\n",
    "import torchvision.transforms.functional as TF\n",
    "from IPython.display import SVG, display\n",
    "import svgwrite\n",
    "from cairosvg import svg2png"
   ]
  },
  {
   "cell_type": "code",
   "execution_count": 2,
   "metadata": {},
   "outputs": [],
   "source": [
    "netG.load_state_dict(torch.load(r\".\\checkpoints\\2021-11-15-19.08.27\\210000__1.4482669830322266.pt\")['G'])\n",
    "netG.to(device)\n",
    "netG.eval()\n",
    "pass"
   ]
  },
  {
   "cell_type": "code",
   "execution_count": 3,
   "metadata": {},
   "outputs": [
    {
     "data": {
      "image/png": "[encoded data removed]",
      "text/plain": [
       "<PIL.Image.Image image mode=RGB size=64x64 at 0x1E29A70F5E0>"
      ]
     },
     "metadata": {},
     "output_type": "display_data"
    },
    {
     "data": {
      "image/png": "[encoded data removed]",
      "text/plain": [
       "<PIL.Image.Image image mode=RGB size=64x64 at 0x1E29A82B430>"
      ]
     },
     "metadata": {},
     "output_type": "display_data"
    }
   ],
   "source": [
    "input_image = Image.open(r\"C:\\projects\\data\\celeba_val\\main\\008189.jpg\")\n",
    "input_tensor = my_transforms(input_image).to(device)\n",
    "display(TF.to_pil_image(unnormalize_functional(input_tensor, mean, std)))\n",
    "netG.return_mode = \"bitmap\"\n",
    "output_image = to_rgb(netG(input_tensor.unsqueeze(0)).squeeze(0))\n",
    "display(TF.to_pil_image(unnormalize_functional(output_image, mean, std)))\n",
    "\n",
    "netG.return_mode = \"shapes\"\n",
    "output_image_args = netG(input_tensor.unsqueeze(0)).squeeze(0).detach().cpu()"
   ]
  },
  {
   "cell_type": "code",
   "execution_count": 49,
   "metadata": {},
   "outputs": [],
   "source": [
    "def save_svg(shapes_args, filename, canvas_height=500, canvas_width=500):\n",
    "    dwg = svgwrite.Drawing(filename, profile='tiny', size=(canvas_width, canvas_height))\n",
    "    r, g, b = 255*(mean.cpu() + std.cpu())\n",
    "    bgr_color = svgwrite.rgb(r, g, b)\n",
    "    dwg.add(dwg.rect(insert=(0, 0), size=(canvas_width, canvas_height), fill=bgr_color))\n",
    "\n",
    "    mr, mg, mb = mean\n",
    "    sr, sg, sb = std\n",
    "\n",
    "    for shape_args in shapes_args:\n",
    "        _, _, pos_x, pos_y, width, height, angle, squareness, r, g, b = shape_args\n",
    "        pos_x = float(pos_x*canvas_height)\n",
    "        pos_y = float(pos_y*canvas_width)\n",
    "        height = float(height*canvas_height)\n",
    "        width = float(width*canvas_width)\n",
    "        width, height = height, width\n",
    "        pos_x, pos_y = pos_y, pos_x\n",
    "        angle = 180*float(angle)\n",
    "        rgb = unnormalize_to(torch.stack([r, g, b]), -1.5, 1.5).view(-1, 1, 1)\n",
    "        r, g, b = 255*unnormalize_functional(rgb, mean.cpu(), std.cpu()).view(-1)\n",
    "        fill = svgwrite.rgb(r, g, b)\n",
    "        if squareness > 0.5:\n",
    "            shape = dwg.rect(insert=(pos_x-width, pos_y-height), size=(2*width, 2*height), fill=fill)\n",
    "        else:\n",
    "            shape = dwg.ellipse(center=(pos_x, pos_y), r=(width, height), fill=fill)\n",
    "        shape.rotate(angle=angle, center=(pos_x, pos_y))\n",
    "        dwg.add(shape)\n",
    "    dwg.save()\n",
    "\n",
    "    display(SVG(filename=\"./out.svg\"))"
   ]
  },
  {
   "cell_type": "code",
   "execution_count": 10,
   "metadata": {},
   "outputs": [
    {
     "data": {
      "application/vnd.jupyter.widget-view+json": {
       "model_id": "81e8925ad71949c986ed500c0c9c744c",
       "version_major": 2,
       "version_minor": 0
      },
      "text/plain": [
       "  0%|          | 0/202599 [00:00<?, ?it/s]"
      ]
     },
     "metadata": {},
     "output_type": "display_data"
    }
   ],
   "source": [
    "from pathlib import Path\n",
    "from tqdm.notebook import tqdm\n",
    "\n",
    "input_path = Path(r\"C:\\projects\\data\\celeba/img_align_celeba/\")\n",
    "output_path = Path(\"./highres_outputs/\") / (input_path.parent.name + \"_pred\")\n",
    "output_path.mkdir(exist_ok=True, parents=True)\n",
    "\n",
    "files = list(input_path.iterdir())\n",
    "\n",
    "netG.return_mode = \"shapes\"\n",
    "\n",
    "for file in tqdm(files):\n",
    "    png_path = output_path / (file.stem + \".png\")\n",
    "    if png_path.exists():\n",
    "        continue\n",
    "    svg_path = output_path / (file.stem + \".svg\")\n",
    "    input_image = Image.open(file)\n",
    "    input_tensor = my_transforms(input_image).to(device)\n",
    "    output_image_args = netG(input_tensor.unsqueeze(0)).squeeze(0).detach().cpu()\n",
    "    save_svg(output_image_args, svg_path, canvas_height=1080, canvas_width=1080)\n",
    "    with open(svg_path, mode=\"rb\") as svg_file:\n",
    "        svg2png(bytestring=svg_file.read(), write_to=str(png_path))\n",
    "    svg_path.unlink()"
   ]
  },
  {
   "cell_type": "code",
   "execution_count": 66,
   "metadata": {},
   "outputs": [
    {
     "data": {
      "application/vnd.jupyter.widget-view+json": {
       "model_id": "9e530831b1a34ce1bbc84cef5e8021cd",
       "version_major": 2,
       "version_minor": 0
      },
      "text/plain": [
       "  0%|          | 0/141 [00:00<?, ?it/s]"
      ]
     },
     "metadata": {},
     "output_type": "display_data"
    }
   ],
   "source": [
    "from pathlib import Path\n",
    "from tqdm.notebook import tqdm\n",
    "import tables\n",
    "import tempfile\n",
    "import torchvision.utils as vutils\n",
    "import numpy as np\n",
    "\n",
    "input_path = Path(r\"G:\\Simon\\Documents\\programming\\github\\shapenet2\\progress\\2021-11-17-16.42.48\\batch_outputs.h5\")\n",
    "output_path = Path(\"./highres_outputs/animated\") / (input_path.parent.name + \"_pred\")\n",
    "output_path.mkdir(exist_ok=True, parents=True)\n",
    "\n",
    "f = tables.open_file(str(input_path), mode='r')\n",
    "nrows = f.root.batches.nrows\n",
    "# batches = torch.tensor(f.root.batches)\n",
    "indices = get_indices(nrows)[:-1]\n",
    "batches = torch.tensor(np.stack([f.root.batches[i] for i in indices]))\n",
    "\n",
    "for i, batch in enumerate(tqdm(batches)):\n",
    "    output_file_path = output_path / (str(i) + \".png\")\n",
    "    if output_file_path.exists():\n",
    "        continue\n",
    "    with tempfile.TemporaryDirectory() as temp_dir:\n",
    "        torch_bitmaps = []\n",
    "        for j, sample in enumerate(batch):\n",
    "            temp_path = Path(temp_dir)\n",
    "            svg_path = temp_path / (str(j) + \".svg\")\n",
    "            save_svg(sample, svg_path, canvas_height=256, canvas_width=256)\n",
    "            png_path = temp_path / (str(j) + \".png\")\n",
    "            with open(svg_path, mode=\"rb\") as svg_file:\n",
    "                svg2png(bytestring=svg_file.read(), write_to=str(png_path))\n",
    "            torch_bitmap = TF.to_tensor(Image.open(png_path))\n",
    "            torch_bitmaps.append(torch_bitmap)\n",
    "        grid = vutils.make_grid(torch.stack(torch_bitmaps), normalize=True)\n",
    "        vutils.save_image(grid, output_file_path)"
   ]
  },
  {
   "cell_type": "code",
   "execution_count": 53,
   "metadata": {},
   "outputs": [],
   "source": [
    "def get_indices(nrows):\n",
    "    # nrows = 145196\n",
    "    max_step = 1000\n",
    "    steps = []\n",
    "    items = [0]\n",
    "    i = 0\n",
    "\n",
    "    def r_sigmoid(x, b):\n",
    "        if x < 0: return 0\n",
    "        if x > 1: return 1\n",
    "        return 1 / (1 + ((x / (1 - x)) + 1e-8)**(-b))\n",
    "\n",
    "    while items[-1] < nrows:\n",
    "        last_item = items[-1]\n",
    "        step = 1 + max_step * r_sigmoid(10*(last_item/nrows), b = 1.6)\n",
    "        new_item = last_item + round(step)\n",
    "        items.append(new_item)\n",
    "        steps.append(step)\n",
    "        i += 1\n",
    "\n",
    "    return items"
   ]
  },
  {
   "cell_type": "code",
   "execution_count": 47,
   "metadata": {},
   "outputs": [
    {
     "data": {
      "text/plain": [
       "[<matplotlib.lines.Line2D at 0x1f44bfea280>]"
      ]
     },
     "execution_count": 47,
     "metadata": {},
     "output_type": "execute_result"
    },
    {
     "data": {
      "image/png": "[encoded data removed]",
      "text/plain": [
       "<Figure size 432x288 with 1 Axes>"
      ]
     },
     "metadata": {
      "needs_background": "light"
     },
     "output_type": "display_data"
    }
   ],
   "source": [
    "import matplotlib.pyplot as plt\n",
    "\n",
    "plt.plot(items)"
   ]
  },
  {
   "cell_type": "code",
   "execution_count": 38,
   "metadata": {},
   "outputs": [
    {
     "data": {
      "text/plain": [
       "[<matplotlib.lines.Line2D at 0x1f446c9fd60>]"
      ]
     },
     "execution_count": 38,
     "metadata": {},
     "output_type": "execute_result"
    },
    {
     "data": {
      "image/png": "[encoded data removed]",
      "text/plain": [
       "<Figure size 432x288 with 1 Axes>"
      ]
     },
     "metadata": {
      "needs_background": "light"
     },
     "output_type": "display_data"
    }
   ],
   "source": [
    "plt.plot(steps)"
   ]
  },
  {
   "cell_type": "code",
   "execution_count": 70,
   "metadata": {},
   "outputs": [],
   "source": [
    "p = Path(r\"C:\\projects\\data\\celeba_val\\main\")\n",
    "ims = torch.stack([\n",
    "    TF.to_tensor(TF.resize(Image.open(p), size=(256, 256))) \n",
    "    for p in list(p.iterdir())[:16]\n",
    "])\n",
    "grid = vutils.make_grid(ims)\n",
    "TF.to_pil_image(grid).save(\"faces.png\")"
   ]
  },
  {
   "cell_type": "code",
   "execution_count": 100,
   "metadata": {},
   "outputs": [
    {
     "name": "stdout",
     "output_type": "stream",
     "text": [
      "my_tensor: tensor([[7, 6, 8, 5, 5, 2, 2, 1, 2, 8],\n",
      "        [4, 0, 3, 2, 8, 4, 5, 9, 3, 1],\n",
      "        [3, 3, 3, 1, 3, 3, 2, 4, 6, 5],\n",
      "        [0, 4, 8, 7, 7, 7, 3, 4, 6, 9]])\n",
      "repeated_1: tensor([[7, 6, 8, 5, 5, 2, 2, 1, 2, 8],\n",
      "        [7, 6, 8, 5, 5, 2, 2, 1, 2, 8],\n",
      "        [4, 0, 3, 2, 8, 4, 5, 9, 3, 1],\n",
      "        [4, 0, 3, 2, 8, 4, 5, 9, 3, 1],\n",
      "        [3, 3, 3, 1, 3, 3, 2, 4, 6, 5],\n",
      "        [3, 3, 3, 1, 3, 3, 2, 4, 6, 5],\n",
      "        [0, 4, 8, 7, 7, 7, 3, 4, 6, 9],\n",
      "        [0, 4, 8, 7, 7, 7, 3, 4, 6, 9]])\n",
      "repeated_2: tensor([[7, 6, 8, 5, 5, 2, 2, 1, 2, 8],\n",
      "        [7, 6, 8, 5, 5, 2, 2, 1, 2, 8],\n",
      "        [4, 0, 3, 2, 8, 4, 5, 9, 3, 1],\n",
      "        [4, 0, 3, 2, 8, 4, 5, 9, 3, 1],\n",
      "        [3, 3, 3, 1, 3, 3, 2, 4, 6, 5],\n",
      "        [3, 3, 3, 1, 3, 3, 2, 4, 6, 5],\n",
      "        [0, 4, 8, 7, 7, 7, 3, 4, 6, 9],\n",
      "        [0, 4, 8, 7, 7, 7, 3, 4, 6, 9]])\n"
     ]
    }
   ],
   "source": [
    "h, w = 4, 10\n",
    "repeats = 2\n",
    "\n",
    "my_tensor = torch.randint(0, 10, [h, w])\n",
    "print(\"my_tensor:\", my_tensor)\n",
    "\n",
    "repeated_1 = my_tensor.repeat_interleave(2, -2)\n",
    "print(\"repeated_1:\", repeated_1)\n",
    "\n",
    "repeated_2 = my_tensor.view(h, 1, w).expand(h, repeats, w).contiguous().view(-1, w)\n",
    "print(\"repeated_2:\", repeated_2)"
   ]
  },
  {
   "cell_type": "code",
   "execution_count": 102,
   "metadata": {},
   "outputs": [
    {
     "name": "stdout",
     "output_type": "stream",
     "text": [
      "repeated_1:\n",
      "time: 0.0017039000013028271\n",
      "repeated_2:\n",
      "time: 0.1595871999998053\n"
     ]
    }
   ],
   "source": [
    "import time\n",
    "\n",
    "h, w = 400, 1000\n",
    "repeats = 200\n",
    "\n",
    "my_tensor = torch.randint(0, 10, [h, w])\n",
    "\n",
    "start_time = time.perf_counter()\n",
    "repeated_1 = my_tensor.repeat_interleave(repeats, -2)\n",
    "elapsed = time.perf_counter() - start_time\n",
    "print(\"repeated_1:\", )\n",
    "print(\"time:\", elapsed)\n",
    "\n",
    "start_time = time.perf_counter()\n",
    "repeated_2 = my_tensor.view(h, 1, w).expand(h, repeats, w).contiguous().view(-1, w)\n",
    "elapsed = time.perf_counter() - start_time\n",
    "print(\"repeated_2:\", )\n",
    "print(\"time:\", elapsed)"
   ]
  },
  {
   "cell_type": "code",
   "execution_count": 96,
   "metadata": {},
   "outputs": [
    {
     "data": {
      "text/plain": [
       "tensor([[7, 5, 7, 3, 6, 8, 3, 0, 5, 8],\n",
       "        [7, 5, 7, 3, 6, 8, 3, 0, 5, 8],\n",
       "        [8, 1, 7, 0, 0, 1, 9, 9, 9, 4],\n",
       "        [8, 1, 7, 0, 0, 1, 9, 9, 9, 4],\n",
       "        [2, 2, 6, 9, 5, 7, 5, 9, 4, 3],\n",
       "        [2, 2, 6, 9, 5, 7, 5, 9, 4, 3],\n",
       "        [6, 5, 0, 8, 9, 9, 4, 6, 1, 2],\n",
       "        [6, 5, 0, 8, 9, 9, 4, 6, 1, 2]])"
      ]
     },
     "execution_count": 96,
     "metadata": {},
     "output_type": "execute_result"
    }
   ],
   "source": [
    " "
   ]
  }
 ],
 "metadata": {
  "interpreter": {
   "hash": "d40f4b150b46d720e7757c47d949286b7c88b9827938950183d77a8b3898b75d"
  },
  "kernelspec": {
   "display_name": "Python 3.9.4 64-bit ('base': conda)",
   "name": "python3"
  },
  "language_info": {
   "codemirror_mode": {
    "name": "ipython",
    "version": 3
   },
   "file_extension": ".py",
   "mimetype": "text/x-python",
   "name": "python",
   "nbconvert_exporter": "python",
   "pygments_lexer": "ipython3",
   "version": "3.9.4"
  },
  "orig_nbformat": 4
 },
 "nbformat": 4,
 "nbformat_minor": 2
}
